{
 "cells": [
  {
   "cell_type": "markdown",
   "metadata": {},
   "source": [
    "# Pandas"
   ]
  },
  {
   "cell_type": "markdown",
   "metadata": {},
   "source": [
    "Learning:\n",
    "* Quick intro to Pandas: https://pandas.pydata.org/pandas-docs/stable/10min.html\n",
    "* Tutorial: [Pandas from the Ground Up - YouTube](https://www.youtube.com/watch?v=5JnMutdy6Fw)\n",
    "* Others at: https://pandas.pydata.org/pandas-docs/stable/tutorials.html\n",
    "\n",
    "How to make effective use of Pandas: https://tomaugspurger.github.io/modern-1-intro.html\n",
    "\n",
    "How to format a dataset (tidy data): http://www.jeannicholashould.com/tidy-data-in-python.html"
   ]
  }
 ],
 "metadata": {
  "kernelspec": {
   "display_name": "Python 3",
   "language": "python",
   "name": "python3"
  },
  "language_info": {
   "codemirror_mode": {
    "name": "ipython",
    "version": 3
   },
   "file_extension": ".py",
   "mimetype": "text/x-python",
   "name": "python",
   "nbconvert_exporter": "python",
   "pygments_lexer": "ipython3",
   "version": "3.6.4"
  }
 },
 "nbformat": 4,
 "nbformat_minor": 2
}
